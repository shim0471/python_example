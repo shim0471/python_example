{
 "cells": [
  {
   "cell_type": "markdown",
   "metadata": {},
   "source": [
    "# Pandas with SQLite "
   ]
  },
  {
   "cell_type": "markdown",
   "metadata": {},
   "source": [
    "SQLite is a database engine that makes it simple to store and work with relational data. Most programming languages have good support for working with SQLite databases. Python is too. In this section, I will create table with pandas."
   ]
  },
  {
   "cell_type": "code",
   "execution_count": 1,
   "metadata": {},
   "outputs": [
    {
     "name": "stdout",
     "output_type": "stream",
     "text": [
      "cheat_sheet_part1.ipynb             cheat_sheet_part5.ipynb\r\n",
      "cheat_sheet_part2.ipynb             converting_date_numeric_par1.ipynb\r\n",
      "cheat_sheet_part3.ipynb             flights.db\r\n",
      "cheat_sheet_part4.ipynb             pd_sqlite.ipynb\r\n"
     ]
    }
   ],
   "source": [
    "%ls"
   ]
  },
  {
   "cell_type": "code",
   "execution_count": 2,
   "metadata": {},
   "outputs": [],
   "source": [
    "# Connect with Sqlite\n",
    "import sqlite3\n",
    "conn = sqlite3.connect('flights.db')"
   ]
  },
  {
   "cell_type": "code",
   "execution_count": 3,
   "metadata": {},
   "outputs": [
    {
     "data": {
      "text/plain": [
       "<sqlite3.Cursor at 0x105d8eea0>"
      ]
     },
     "execution_count": 3,
     "metadata": {},
     "output_type": "execute_result"
    }
   ],
   "source": [
    "# Create Cursor object. Cursors allow us to excute SQL queries\n",
    "cur = conn.cursor()\n",
    "cur.execute('select * from airlines limit 5;')"
   ]
  },
  {
   "cell_type": "code",
   "execution_count": 4,
   "metadata": {},
   "outputs": [
    {
     "name": "stdout",
     "output_type": "stream",
     "text": [
      "[(0, '1', 'Private flight', '\\\\N', '-', None, None, None, 'Y'), (1, '2', '135 Airways', '\\\\N', None, 'GNL', 'GENERAL', 'United States', 'N'), (2, '3', '1Time Airline', '\\\\N', '1T', 'RNX', 'NEXTIME', 'South Africa', 'Y'), (3, '4', '2 Sqn No 1 Elementary Flying Training School', '\\\\N', None, 'WYT', None, 'United Kingdom', 'N'), (4, '5', '213 Flight Unit', '\\\\N', None, 'TFU', None, 'Russia', 'N')]\n"
     ]
    }
   ],
   "source": [
    "# Using fetchall to display table\n",
    "results = cur.fetchall()\n",
    "print(results)"
   ]
  },
  {
   "cell_type": "markdown",
   "metadata": {},
   "source": [
    "This resuts are formatted as a list of tuples. Each tuple corresponds to a row in the database that we accessed. We need to add column head, and parse the data."
   ]
  },
  {
   "cell_type": "code",
   "execution_count": 5,
   "metadata": {},
   "outputs": [],
   "source": [
    "# Before move on to Mapping we have to close Connection object and cursor\n",
    "cur.close()\n",
    "conn.close()"
   ]
  },
  {
   "cell_type": "markdown",
   "metadata": {},
   "source": [
    "## Read db"
   ]
  },
  {
   "cell_type": "code",
   "execution_count": 6,
   "metadata": {},
   "outputs": [],
   "source": [
    "# I query lat and log in airports data\n",
    "import sqlite3\n",
    "\n",
    "conn = sqlite3.connect('flights.db')\n",
    "cur = conn.cursor()\n",
    "\n",
    "# query statement\n",
    "coords = cur.execute(\"\"\"\n",
    "    select cast (longitude as float),\n",
    "    cast (latitude as float)\n",
    "    from airports;\n",
    "\"\"\")\n",
    "\n",
    "coResult = coords.fetchall()"
   ]
  },
  {
   "cell_type": "code",
   "execution_count": 7,
   "metadata": {},
   "outputs": [],
   "source": [
    "conn.close()"
   ]
  },
  {
   "cell_type": "markdown",
   "metadata": {},
   "source": [
    "## Read db into Pandas"
   ]
  },
  {
   "cell_type": "code",
   "execution_count": 8,
   "metadata": {},
   "outputs": [
    {
     "data": {
      "text/html": [
       "<div>\n",
       "<style scoped>\n",
       "    .dataframe tbody tr th:only-of-type {\n",
       "        vertical-align: middle;\n",
       "    }\n",
       "\n",
       "    .dataframe tbody tr th {\n",
       "        vertical-align: top;\n",
       "    }\n",
       "\n",
       "    .dataframe thead th {\n",
       "        text-align: right;\n",
       "    }\n",
       "</style>\n",
       "<table border=\"1\" class=\"dataframe\">\n",
       "  <thead>\n",
       "    <tr style=\"text-align: right;\">\n",
       "      <th></th>\n",
       "      <th>index</th>\n",
       "      <th>id</th>\n",
       "      <th>name</th>\n",
       "      <th>alias</th>\n",
       "      <th>iata</th>\n",
       "      <th>icao</th>\n",
       "      <th>callsign</th>\n",
       "      <th>country</th>\n",
       "      <th>active</th>\n",
       "    </tr>\n",
       "  </thead>\n",
       "  <tbody>\n",
       "    <tr>\n",
       "      <th>0</th>\n",
       "      <td>0</td>\n",
       "      <td>1</td>\n",
       "      <td>Private flight</td>\n",
       "      <td>\\N</td>\n",
       "      <td>-</td>\n",
       "      <td>None</td>\n",
       "      <td>None</td>\n",
       "      <td>None</td>\n",
       "      <td>Y</td>\n",
       "    </tr>\n",
       "    <tr>\n",
       "      <th>1</th>\n",
       "      <td>1</td>\n",
       "      <td>2</td>\n",
       "      <td>135 Airways</td>\n",
       "      <td>\\N</td>\n",
       "      <td>None</td>\n",
       "      <td>GNL</td>\n",
       "      <td>GENERAL</td>\n",
       "      <td>United States</td>\n",
       "      <td>N</td>\n",
       "    </tr>\n",
       "    <tr>\n",
       "      <th>2</th>\n",
       "      <td>2</td>\n",
       "      <td>3</td>\n",
       "      <td>1Time Airline</td>\n",
       "      <td>\\N</td>\n",
       "      <td>1T</td>\n",
       "      <td>RNX</td>\n",
       "      <td>NEXTIME</td>\n",
       "      <td>South Africa</td>\n",
       "      <td>Y</td>\n",
       "    </tr>\n",
       "    <tr>\n",
       "      <th>3</th>\n",
       "      <td>3</td>\n",
       "      <td>4</td>\n",
       "      <td>2 Sqn No 1 Elementary Flying Training School</td>\n",
       "      <td>\\N</td>\n",
       "      <td>None</td>\n",
       "      <td>WYT</td>\n",
       "      <td>None</td>\n",
       "      <td>United Kingdom</td>\n",
       "      <td>N</td>\n",
       "    </tr>\n",
       "    <tr>\n",
       "      <th>4</th>\n",
       "      <td>4</td>\n",
       "      <td>5</td>\n",
       "      <td>213 Flight Unit</td>\n",
       "      <td>\\N</td>\n",
       "      <td>None</td>\n",
       "      <td>TFU</td>\n",
       "      <td>None</td>\n",
       "      <td>Russia</td>\n",
       "      <td>N</td>\n",
       "    </tr>\n",
       "  </tbody>\n",
       "</table>\n",
       "</div>"
      ],
      "text/plain": [
       "   index id                                          name alias  iata  icao  \\\n",
       "0      0  1                                Private flight    \\N     -  None   \n",
       "1      1  2                                   135 Airways    \\N  None   GNL   \n",
       "2      2  3                                 1Time Airline    \\N    1T   RNX   \n",
       "3      3  4  2 Sqn No 1 Elementary Flying Training School    \\N  None   WYT   \n",
       "4      4  5                               213 Flight Unit    \\N  None   TFU   \n",
       "\n",
       "  callsign         country active  \n",
       "0     None            None      Y  \n",
       "1  GENERAL   United States      N  \n",
       "2  NEXTIME    South Africa      Y  \n",
       "3     None  United Kingdom      N  \n",
       "4     None          Russia      N  "
      ]
     },
     "execution_count": 8,
     "metadata": {},
     "output_type": "execute_result"
    }
   ],
   "source": [
    "import pandas as pd\n",
    "\n",
    "conn = sqlite3.connect('flights.db')\n",
    "df = pd.read_sql_query('select * from airlines limit 5;', conn)\n",
    "df"
   ]
  },
  {
   "cell_type": "code",
   "execution_count": 9,
   "metadata": {},
   "outputs": [
    {
     "data": {
      "text/plain": [
       "0              None\n",
       "1     United States\n",
       "2      South Africa\n",
       "3    United Kingdom\n",
       "4            Russia\n",
       "Name: country, dtype: object"
      ]
     },
     "execution_count": 9,
     "metadata": {},
     "output_type": "execute_result"
    }
   ],
   "source": [
    "df['country']"
   ]
  },
  {
   "cell_type": "markdown",
   "metadata": {},
   "source": [
    "### * Insert rows"
   ]
  },
  {
   "cell_type": "code",
   "execution_count": 10,
   "metadata": {},
   "outputs": [
    {
     "data": {
      "text/plain": [
       "<sqlite3.Cursor at 0x11252df80>"
      ]
     },
     "execution_count": 10,
     "metadata": {},
     "output_type": "execute_result"
    }
   ],
   "source": [
    "cur  = conn.cursor()\n",
    "cur.execute(\"insert into airlines values (6048, 19846, 'Test flight', '', '', null, null, null, 'Y' )\")"
   ]
  },
  {
   "cell_type": "code",
   "execution_count": 11,
   "metadata": {},
   "outputs": [
    {
     "name": "stdout",
     "output_type": "stream",
     "text": [
      "cheat_sheet_part1.ipynb             converting_date_numeric_par1.ipynb\r\n",
      "cheat_sheet_part2.ipynb             flights.db\r\n",
      "cheat_sheet_part3.ipynb             flights.db-journal\r\n",
      "cheat_sheet_part4.ipynb             pd_sqlite.ipynb\r\n",
      "cheat_sheet_part5.ipynb\r\n"
     ]
    }
   ],
   "source": [
    "%ls"
   ]
  },
  {
   "cell_type": "markdown",
   "metadata": {},
   "source": [
    "flights.db-journal. flights.db-journal are created and storing the new row until I ready to commit it to the main database."
   ]
  },
  {
   "cell_type": "markdown",
   "metadata": {},
   "source": [
    "#### Transaction"
   ]
  },
  {
   "cell_type": "markdown",
   "metadata": {},
   "source": [
    "SQLite3 does not write to the database until I commit a transaction. A transaction consists of 1 or more queries and run several queries, then finally alter the database with the results of all of them. If one of the queries fails, the database isn’t partially updated."
   ]
  },
  {
   "cell_type": "code",
   "execution_count": 12,
   "metadata": {},
   "outputs": [
    {
     "name": "stdout",
     "output_type": "stream",
     "text": [
      "(6049, 9)\n"
     ]
    }
   ],
   "source": [
    "conn.commit()\n",
    "\n",
    "df = pd.read_sql_query(\"select * from airlines\", conn)\n",
    "print(df.shape)"
   ]
  },
  {
   "cell_type": "code",
   "execution_count": 13,
   "metadata": {},
   "outputs": [
    {
     "data": {
      "text/html": [
       "<div>\n",
       "<style scoped>\n",
       "    .dataframe tbody tr th:only-of-type {\n",
       "        vertical-align: middle;\n",
       "    }\n",
       "\n",
       "    .dataframe tbody tr th {\n",
       "        vertical-align: top;\n",
       "    }\n",
       "\n",
       "    .dataframe thead th {\n",
       "        text-align: right;\n",
       "    }\n",
       "</style>\n",
       "<table border=\"1\" class=\"dataframe\">\n",
       "  <thead>\n",
       "    <tr style=\"text-align: right;\">\n",
       "      <th></th>\n",
       "      <th>index</th>\n",
       "      <th>id</th>\n",
       "      <th>name</th>\n",
       "      <th>alias</th>\n",
       "      <th>iata</th>\n",
       "      <th>icao</th>\n",
       "      <th>callsign</th>\n",
       "      <th>country</th>\n",
       "      <th>active</th>\n",
       "    </tr>\n",
       "  </thead>\n",
       "  <tbody>\n",
       "    <tr>\n",
       "      <th>6044</th>\n",
       "      <td>6044</td>\n",
       "      <td>19830</td>\n",
       "      <td>All Australia</td>\n",
       "      <td>All Australia</td>\n",
       "      <td>88</td>\n",
       "      <td>8K8</td>\n",
       "      <td>None</td>\n",
       "      <td>Australia</td>\n",
       "      <td>Y</td>\n",
       "    </tr>\n",
       "    <tr>\n",
       "      <th>6045</th>\n",
       "      <td>6045</td>\n",
       "      <td>19831</td>\n",
       "      <td>Fly Europa</td>\n",
       "      <td>None</td>\n",
       "      <td>ER</td>\n",
       "      <td>RWW</td>\n",
       "      <td>None</td>\n",
       "      <td>Spain</td>\n",
       "      <td>Y</td>\n",
       "    </tr>\n",
       "    <tr>\n",
       "      <th>6046</th>\n",
       "      <td>6046</td>\n",
       "      <td>19834</td>\n",
       "      <td>FlyPortugal</td>\n",
       "      <td>None</td>\n",
       "      <td>PO</td>\n",
       "      <td>FPT</td>\n",
       "      <td>FlyPortugal</td>\n",
       "      <td>Portugal</td>\n",
       "      <td>Y</td>\n",
       "    </tr>\n",
       "    <tr>\n",
       "      <th>6047</th>\n",
       "      <td>6047</td>\n",
       "      <td>19845</td>\n",
       "      <td>FTI Fluggesellschaft</td>\n",
       "      <td>None</td>\n",
       "      <td>None</td>\n",
       "      <td>FTI</td>\n",
       "      <td>None</td>\n",
       "      <td>Germany</td>\n",
       "      <td>N</td>\n",
       "    </tr>\n",
       "    <tr>\n",
       "      <th>6048</th>\n",
       "      <td>6048</td>\n",
       "      <td>19846</td>\n",
       "      <td>Test flight</td>\n",
       "      <td></td>\n",
       "      <td></td>\n",
       "      <td>None</td>\n",
       "      <td>None</td>\n",
       "      <td>None</td>\n",
       "      <td>Y</td>\n",
       "    </tr>\n",
       "  </tbody>\n",
       "</table>\n",
       "</div>"
      ],
      "text/plain": [
       "      index     id                  name          alias  iata  icao  \\\n",
       "6044   6044  19830         All Australia  All Australia    88   8K8   \n",
       "6045   6045  19831            Fly Europa           None    ER   RWW   \n",
       "6046   6046  19834           FlyPortugal           None    PO   FPT   \n",
       "6047   6047  19845  FTI Fluggesellschaft           None  None   FTI   \n",
       "6048   6048  19846           Test flight                       None   \n",
       "\n",
       "         callsign    country active  \n",
       "6044         None  Australia      Y  \n",
       "6045         None      Spain      Y  \n",
       "6046  FlyPortugal   Portugal      Y  \n",
       "6047         None    Germany      N  \n",
       "6048         None       None      Y  "
      ]
     },
     "execution_count": 13,
     "metadata": {},
     "output_type": "execute_result"
    }
   ],
   "source": [
    "df.tail()"
   ]
  },
  {
   "cell_type": "code",
   "execution_count": 14,
   "metadata": {},
   "outputs": [
    {
     "data": {
      "text/html": [
       "<div>\n",
       "<style scoped>\n",
       "    .dataframe tbody tr th:only-of-type {\n",
       "        vertical-align: middle;\n",
       "    }\n",
       "\n",
       "    .dataframe tbody tr th {\n",
       "        vertical-align: top;\n",
       "    }\n",
       "\n",
       "    .dataframe thead th {\n",
       "        text-align: right;\n",
       "    }\n",
       "</style>\n",
       "<table border=\"1\" class=\"dataframe\">\n",
       "  <thead>\n",
       "    <tr style=\"text-align: right;\">\n",
       "      <th></th>\n",
       "      <th>index</th>\n",
       "      <th>id</th>\n",
       "      <th>name</th>\n",
       "      <th>alias</th>\n",
       "      <th>iata</th>\n",
       "      <th>icao</th>\n",
       "      <th>callsign</th>\n",
       "      <th>country</th>\n",
       "      <th>active</th>\n",
       "    </tr>\n",
       "  </thead>\n",
       "  <tbody>\n",
       "    <tr>\n",
       "      <th>0</th>\n",
       "      <td>6048</td>\n",
       "      <td>19846</td>\n",
       "      <td>Test flight</td>\n",
       "      <td></td>\n",
       "      <td></td>\n",
       "      <td>None</td>\n",
       "      <td>None</td>\n",
       "      <td>None</td>\n",
       "      <td>Y</td>\n",
       "    </tr>\n",
       "  </tbody>\n",
       "</table>\n",
       "</div>"
      ],
      "text/plain": [
       "   index     id         name alias iata  icao callsign country active\n",
       "0   6048  19846  Test flight             None     None    None      Y"
      ]
     },
     "execution_count": 14,
     "metadata": {},
     "output_type": "execute_result"
    }
   ],
   "source": [
    "# or Use where statement\n",
    "pd.read_sql_query(\"select * from airlines where id = 19846\", conn)"
   ]
  },
  {
   "cell_type": "markdown",
   "metadata": {},
   "source": [
    "### * Passing Parameter into a query"
   ]
  },
  {
   "cell_type": "markdown",
   "metadata": {},
   "source": [
    "Most of the time, when we insert data into a database, it won’t be hardcoded, it will be dynamic values we want to pass in. These dynamic values might come from downloaded data, or come from user. When working with dynamic data, it might be tempting to insert values using Python string formatting like below."
   ]
  },
  {
   "cell_type": "code",
   "execution_count": 15,
   "metadata": {},
   "outputs": [],
   "source": [
    "#name = \"Test2 Flight\"\n",
    "#cur.execute(\"insert into airlines values (6049, 19847, {0}, ' ', ' ', null, null, null, 'Y')\").format(name)\n",
    "#conn.commit()"
   ]
  },
  {
   "cell_type": "markdown",
   "metadata": {},
   "source": [
    "Sqlite3 has a straightforward way to inject dynamic values without relying on string formatting."
   ]
  },
  {
   "cell_type": "code",
   "execution_count": 16,
   "metadata": {},
   "outputs": [],
   "source": [
    "value = ('Test2 flight', 'Y')\n",
    "cur.execute(\"insert into airlines values (6049, 19847, ?, ' ' , ' ' , null, null, null, ?)\", value)\n",
    "conn.commit()"
   ]
  },
  {
   "cell_type": "code",
   "execution_count": 17,
   "metadata": {},
   "outputs": [
    {
     "data": {
      "text/html": [
       "<div>\n",
       "<style scoped>\n",
       "    .dataframe tbody tr th:only-of-type {\n",
       "        vertical-align: middle;\n",
       "    }\n",
       "\n",
       "    .dataframe tbody tr th {\n",
       "        vertical-align: top;\n",
       "    }\n",
       "\n",
       "    .dataframe thead th {\n",
       "        text-align: right;\n",
       "    }\n",
       "</style>\n",
       "<table border=\"1\" class=\"dataframe\">\n",
       "  <thead>\n",
       "    <tr style=\"text-align: right;\">\n",
       "      <th></th>\n",
       "      <th>index</th>\n",
       "      <th>id</th>\n",
       "      <th>name</th>\n",
       "      <th>alias</th>\n",
       "      <th>iata</th>\n",
       "      <th>icao</th>\n",
       "      <th>callsign</th>\n",
       "      <th>country</th>\n",
       "      <th>active</th>\n",
       "    </tr>\n",
       "  </thead>\n",
       "  <tbody>\n",
       "    <tr>\n",
       "      <th>6045</th>\n",
       "      <td>6045</td>\n",
       "      <td>19831</td>\n",
       "      <td>Fly Europa</td>\n",
       "      <td>None</td>\n",
       "      <td>ER</td>\n",
       "      <td>RWW</td>\n",
       "      <td>None</td>\n",
       "      <td>Spain</td>\n",
       "      <td>Y</td>\n",
       "    </tr>\n",
       "    <tr>\n",
       "      <th>6046</th>\n",
       "      <td>6046</td>\n",
       "      <td>19834</td>\n",
       "      <td>FlyPortugal</td>\n",
       "      <td>None</td>\n",
       "      <td>PO</td>\n",
       "      <td>FPT</td>\n",
       "      <td>FlyPortugal</td>\n",
       "      <td>Portugal</td>\n",
       "      <td>Y</td>\n",
       "    </tr>\n",
       "    <tr>\n",
       "      <th>6047</th>\n",
       "      <td>6047</td>\n",
       "      <td>19845</td>\n",
       "      <td>FTI Fluggesellschaft</td>\n",
       "      <td>None</td>\n",
       "      <td>None</td>\n",
       "      <td>FTI</td>\n",
       "      <td>None</td>\n",
       "      <td>Germany</td>\n",
       "      <td>N</td>\n",
       "    </tr>\n",
       "    <tr>\n",
       "      <th>6048</th>\n",
       "      <td>6048</td>\n",
       "      <td>19846</td>\n",
       "      <td>Test flight</td>\n",
       "      <td></td>\n",
       "      <td></td>\n",
       "      <td>None</td>\n",
       "      <td>None</td>\n",
       "      <td>None</td>\n",
       "      <td>Y</td>\n",
       "    </tr>\n",
       "    <tr>\n",
       "      <th>6049</th>\n",
       "      <td>6049</td>\n",
       "      <td>19847</td>\n",
       "      <td>Test2 flight</td>\n",
       "      <td></td>\n",
       "      <td></td>\n",
       "      <td>None</td>\n",
       "      <td>None</td>\n",
       "      <td>None</td>\n",
       "      <td>Y</td>\n",
       "    </tr>\n",
       "  </tbody>\n",
       "</table>\n",
       "</div>"
      ],
      "text/plain": [
       "      index     id                  name alias  iata  icao     callsign  \\\n",
       "6045   6045  19831            Fly Europa  None    ER   RWW         None   \n",
       "6046   6046  19834           FlyPortugal  None    PO   FPT  FlyPortugal   \n",
       "6047   6047  19845  FTI Fluggesellschaft  None  None   FTI         None   \n",
       "6048   6048  19846           Test flight              None         None   \n",
       "6049   6049  19847          Test2 flight              None         None   \n",
       "\n",
       "       country active  \n",
       "6045     Spain      Y  \n",
       "6046  Portugal      Y  \n",
       "6047   Germany      N  \n",
       "6048      None      Y  \n",
       "6049      None      Y  "
      ]
     },
     "execution_count": 17,
     "metadata": {},
     "output_type": "execute_result"
    }
   ],
   "source": [
    "df = pd.read_sql_query(\"select * from airlines\", conn)\n",
    "df.tail()"
   ]
  },
  {
   "cell_type": "markdown",
   "metadata": {},
   "source": [
    "### * Updating rows"
   ]
  },
  {
   "cell_type": "code",
   "execution_count": 18,
   "metadata": {},
   "outputs": [],
   "source": [
    "values = ('USA', 19847)\n",
    "cur.execute(\"update airlines set country = ? where id =?\", values)\n",
    "conn.commit()"
   ]
  },
  {
   "cell_type": "code",
   "execution_count": 19,
   "metadata": {},
   "outputs": [
    {
     "data": {
      "text/html": [
       "<div>\n",
       "<style scoped>\n",
       "    .dataframe tbody tr th:only-of-type {\n",
       "        vertical-align: middle;\n",
       "    }\n",
       "\n",
       "    .dataframe tbody tr th {\n",
       "        vertical-align: top;\n",
       "    }\n",
       "\n",
       "    .dataframe thead th {\n",
       "        text-align: right;\n",
       "    }\n",
       "</style>\n",
       "<table border=\"1\" class=\"dataframe\">\n",
       "  <thead>\n",
       "    <tr style=\"text-align: right;\">\n",
       "      <th></th>\n",
       "      <th>index</th>\n",
       "      <th>id</th>\n",
       "      <th>name</th>\n",
       "      <th>alias</th>\n",
       "      <th>iata</th>\n",
       "      <th>icao</th>\n",
       "      <th>callsign</th>\n",
       "      <th>country</th>\n",
       "      <th>active</th>\n",
       "    </tr>\n",
       "  </thead>\n",
       "  <tbody>\n",
       "    <tr>\n",
       "      <th>0</th>\n",
       "      <td>6049</td>\n",
       "      <td>19847</td>\n",
       "      <td>Test2 flight</td>\n",
       "      <td></td>\n",
       "      <td></td>\n",
       "      <td>None</td>\n",
       "      <td>None</td>\n",
       "      <td>USA</td>\n",
       "      <td>Y</td>\n",
       "    </tr>\n",
       "  </tbody>\n",
       "</table>\n",
       "</div>"
      ],
      "text/plain": [
       "   index     id          name alias iata  icao callsign country active\n",
       "0   6049  19847  Test2 flight             None     None     USA      Y"
      ]
     },
     "execution_count": 19,
     "metadata": {},
     "output_type": "execute_result"
    }
   ],
   "source": [
    "pd.read_sql_query(\"select * from airlines where id=19847\", conn)"
   ]
  },
  {
   "cell_type": "markdown",
   "metadata": {},
   "source": [
    "### * Deleting rows"
   ]
  },
  {
   "cell_type": "code",
   "execution_count": 20,
   "metadata": {},
   "outputs": [],
   "source": [
    "values = (19847, )\n",
    "cur.execute(\"delete from airlines where id=?\", values)\n",
    "conn.commit()"
   ]
  },
  {
   "cell_type": "code",
   "execution_count": 21,
   "metadata": {},
   "outputs": [
    {
     "data": {
      "text/html": [
       "<div>\n",
       "<style scoped>\n",
       "    .dataframe tbody tr th:only-of-type {\n",
       "        vertical-align: middle;\n",
       "    }\n",
       "\n",
       "    .dataframe tbody tr th {\n",
       "        vertical-align: top;\n",
       "    }\n",
       "\n",
       "    .dataframe thead th {\n",
       "        text-align: right;\n",
       "    }\n",
       "</style>\n",
       "<table border=\"1\" class=\"dataframe\">\n",
       "  <thead>\n",
       "    <tr style=\"text-align: right;\">\n",
       "      <th></th>\n",
       "      <th>index</th>\n",
       "      <th>id</th>\n",
       "      <th>name</th>\n",
       "      <th>alias</th>\n",
       "      <th>iata</th>\n",
       "      <th>icao</th>\n",
       "      <th>callsign</th>\n",
       "      <th>country</th>\n",
       "      <th>active</th>\n",
       "    </tr>\n",
       "  </thead>\n",
       "  <tbody>\n",
       "  </tbody>\n",
       "</table>\n",
       "</div>"
      ],
      "text/plain": [
       "Empty DataFrame\n",
       "Columns: [index, id, name, alias, iata, icao, callsign, country, active]\n",
       "Index: []"
      ]
     },
     "execution_count": 21,
     "metadata": {},
     "output_type": "execute_result"
    }
   ],
   "source": [
    "pd.read_sql_query(\"select * from airlines where id = 19847\", conn)"
   ]
  },
  {
   "cell_type": "markdown",
   "metadata": {},
   "source": [
    "### * Creating tables"
   ]
  },
  {
   "cell_type": "code",
   "execution_count": 22,
   "metadata": {},
   "outputs": [],
   "source": [
    "cur.execute(\"create table daily_flights( id integer, departure date, arrival date, number text, route_id integer)\")\n",
    "\n",
    "conn.commit()"
   ]
  },
  {
   "cell_type": "code",
   "execution_count": 23,
   "metadata": {},
   "outputs": [
    {
     "data": {
      "text/html": [
       "<div>\n",
       "<style scoped>\n",
       "    .dataframe tbody tr th:only-of-type {\n",
       "        vertical-align: middle;\n",
       "    }\n",
       "\n",
       "    .dataframe tbody tr th {\n",
       "        vertical-align: top;\n",
       "    }\n",
       "\n",
       "    .dataframe thead th {\n",
       "        text-align: right;\n",
       "    }\n",
       "</style>\n",
       "<table border=\"1\" class=\"dataframe\">\n",
       "  <thead>\n",
       "    <tr style=\"text-align: right;\">\n",
       "      <th></th>\n",
       "      <th>id</th>\n",
       "      <th>departure</th>\n",
       "      <th>arrival</th>\n",
       "      <th>number</th>\n",
       "      <th>route_id</th>\n",
       "    </tr>\n",
       "  </thead>\n",
       "  <tbody>\n",
       "  </tbody>\n",
       "</table>\n",
       "</div>"
      ],
      "text/plain": [
       "Empty DataFrame\n",
       "Columns: [id, departure, arrival, number, route_id]\n",
       "Index: []"
      ]
     },
     "execution_count": 23,
     "metadata": {},
     "output_type": "execute_result"
    }
   ],
   "source": [
    "pd.read_sql_query(\"select * from daily_flights\", conn)"
   ]
  },
  {
   "cell_type": "code",
   "execution_count": 24,
   "metadata": {},
   "outputs": [],
   "source": [
    "cur.execute(\"insert into daily_flights values(1, '2016-09-28 0:00', '2016-09-28 12:00', 'T1', 1)\")\n",
    "conn.commit()"
   ]
  },
  {
   "cell_type": "code",
   "execution_count": 25,
   "metadata": {},
   "outputs": [
    {
     "data": {
      "text/html": [
       "<div>\n",
       "<style scoped>\n",
       "    .dataframe tbody tr th:only-of-type {\n",
       "        vertical-align: middle;\n",
       "    }\n",
       "\n",
       "    .dataframe tbody tr th {\n",
       "        vertical-align: top;\n",
       "    }\n",
       "\n",
       "    .dataframe thead th {\n",
       "        text-align: right;\n",
       "    }\n",
       "</style>\n",
       "<table border=\"1\" class=\"dataframe\">\n",
       "  <thead>\n",
       "    <tr style=\"text-align: right;\">\n",
       "      <th></th>\n",
       "      <th>id</th>\n",
       "      <th>departure</th>\n",
       "      <th>arrival</th>\n",
       "      <th>number</th>\n",
       "      <th>route_id</th>\n",
       "    </tr>\n",
       "  </thead>\n",
       "  <tbody>\n",
       "    <tr>\n",
       "      <th>0</th>\n",
       "      <td>1</td>\n",
       "      <td>2016-09-28 0:00</td>\n",
       "      <td>2016-09-28 12:00</td>\n",
       "      <td>T1</td>\n",
       "      <td>1</td>\n",
       "    </tr>\n",
       "  </tbody>\n",
       "</table>\n",
       "</div>"
      ],
      "text/plain": [
       "   id        departure           arrival number  route_id\n",
       "0   1  2016-09-28 0:00  2016-09-28 12:00     T1         1"
      ]
     },
     "execution_count": 25,
     "metadata": {},
     "output_type": "execute_result"
    }
   ],
   "source": [
    "pd.read_sql_query(\"select * from daily_flights\", conn)"
   ]
  },
  {
   "cell_type": "markdown",
   "metadata": {},
   "source": [
    "### * Creating tables with Pandas"
   ]
  },
  {
   "cell_type": "code",
   "execution_count": 26,
   "metadata": {},
   "outputs": [
    {
     "data": {
      "text/html": [
       "<div>\n",
       "<style scoped>\n",
       "    .dataframe tbody tr th:only-of-type {\n",
       "        vertical-align: middle;\n",
       "    }\n",
       "\n",
       "    .dataframe tbody tr th {\n",
       "        vertical-align: top;\n",
       "    }\n",
       "\n",
       "    .dataframe thead th {\n",
       "        text-align: right;\n",
       "    }\n",
       "</style>\n",
       "<table border=\"1\" class=\"dataframe\">\n",
       "  <thead>\n",
       "    <tr style=\"text-align: right;\">\n",
       "      <th></th>\n",
       "      <th>id</th>\n",
       "      <th>departure</th>\n",
       "      <th>arrival</th>\n",
       "      <th>number</th>\n",
       "      <th>route_id</th>\n",
       "    </tr>\n",
       "  </thead>\n",
       "  <tbody>\n",
       "    <tr>\n",
       "      <th>0</th>\n",
       "      <td>1</td>\n",
       "      <td>2016-09-29</td>\n",
       "      <td>2016-09-29 12:00:00</td>\n",
       "      <td>T2</td>\n",
       "      <td>2</td>\n",
       "    </tr>\n",
       "  </tbody>\n",
       "</table>\n",
       "</div>"
      ],
      "text/plain": [
       "   id  departure             arrival number  route_id\n",
       "0   1 2016-09-29 2016-09-29 12:00:00     T2         2"
      ]
     },
     "execution_count": 26,
     "metadata": {},
     "output_type": "execute_result"
    }
   ],
   "source": [
    "from datetime import datetime\n",
    "\n",
    "df = pd.DataFrame(\n",
    "    [[1, datetime(2016, 9, 29, 0, 0), datetime(2016, 9, 29, 12, 0), 'T2', 2]\n",
    "    ],\n",
    "    columns=['id', 'departure', 'arrival', 'number', 'route_id']\n",
    ")\n",
    "\n",
    "df"
   ]
  },
  {
   "cell_type": "code",
   "execution_count": 27,
   "metadata": {},
   "outputs": [],
   "source": [
    "df.to_sql(\"daily_filghts\", conn, if_exists=\"replace\")"
   ]
  },
  {
   "cell_type": "code",
   "execution_count": 28,
   "metadata": {},
   "outputs": [
    {
     "data": {
      "text/html": [
       "<div>\n",
       "<style scoped>\n",
       "    .dataframe tbody tr th:only-of-type {\n",
       "        vertical-align: middle;\n",
       "    }\n",
       "\n",
       "    .dataframe tbody tr th {\n",
       "        vertical-align: top;\n",
       "    }\n",
       "\n",
       "    .dataframe thead th {\n",
       "        text-align: right;\n",
       "    }\n",
       "</style>\n",
       "<table border=\"1\" class=\"dataframe\">\n",
       "  <thead>\n",
       "    <tr style=\"text-align: right;\">\n",
       "      <th></th>\n",
       "      <th>id</th>\n",
       "      <th>departure</th>\n",
       "      <th>arrival</th>\n",
       "      <th>number</th>\n",
       "      <th>route_id</th>\n",
       "    </tr>\n",
       "  </thead>\n",
       "  <tbody>\n",
       "    <tr>\n",
       "      <th>0</th>\n",
       "      <td>1</td>\n",
       "      <td>2016-09-28 0:00</td>\n",
       "      <td>2016-09-28 12:00</td>\n",
       "      <td>T1</td>\n",
       "      <td>1</td>\n",
       "    </tr>\n",
       "  </tbody>\n",
       "</table>\n",
       "</div>"
      ],
      "text/plain": [
       "   id        departure           arrival number  route_id\n",
       "0   1  2016-09-28 0:00  2016-09-28 12:00     T1         1"
      ]
     },
     "execution_count": 28,
     "metadata": {},
     "output_type": "execute_result"
    }
   ],
   "source": [
    "pd.read_sql_query(\"select * from daily_flights;\", conn)"
   ]
  },
  {
   "cell_type": "markdown",
   "metadata": {},
   "source": [
    "### * Altering tables with Pandas"
   ]
  },
  {
   "cell_type": "code",
   "execution_count": 29,
   "metadata": {},
   "outputs": [
    {
     "data": {
      "text/plain": [
       "<sqlite3.Cursor at 0x11252df80>"
      ]
     },
     "execution_count": 29,
     "metadata": {},
     "output_type": "execute_result"
    }
   ],
   "source": [
    "cur.execute(\"alter table airlines add column airplanes int;\")"
   ]
  },
  {
   "cell_type": "code",
   "execution_count": 30,
   "metadata": {},
   "outputs": [
    {
     "data": {
      "text/html": [
       "<div>\n",
       "<style scoped>\n",
       "    .dataframe tbody tr th:only-of-type {\n",
       "        vertical-align: middle;\n",
       "    }\n",
       "\n",
       "    .dataframe tbody tr th {\n",
       "        vertical-align: top;\n",
       "    }\n",
       "\n",
       "    .dataframe thead th {\n",
       "        text-align: right;\n",
       "    }\n",
       "</style>\n",
       "<table border=\"1\" class=\"dataframe\">\n",
       "  <thead>\n",
       "    <tr style=\"text-align: right;\">\n",
       "      <th></th>\n",
       "      <th>index</th>\n",
       "      <th>id</th>\n",
       "      <th>name</th>\n",
       "      <th>alias</th>\n",
       "      <th>iata</th>\n",
       "      <th>icao</th>\n",
       "      <th>callsign</th>\n",
       "      <th>country</th>\n",
       "      <th>active</th>\n",
       "      <th>airplanes</th>\n",
       "    </tr>\n",
       "  </thead>\n",
       "  <tbody>\n",
       "    <tr>\n",
       "      <th>0</th>\n",
       "      <td>0</td>\n",
       "      <td>1</td>\n",
       "      <td>Private flight</td>\n",
       "      <td>\\N</td>\n",
       "      <td>-</td>\n",
       "      <td>None</td>\n",
       "      <td>None</td>\n",
       "      <td>None</td>\n",
       "      <td>Y</td>\n",
       "      <td>None</td>\n",
       "    </tr>\n",
       "    <tr>\n",
       "      <th>1</th>\n",
       "      <td>1</td>\n",
       "      <td>2</td>\n",
       "      <td>135 Airways</td>\n",
       "      <td>\\N</td>\n",
       "      <td>None</td>\n",
       "      <td>GNL</td>\n",
       "      <td>GENERAL</td>\n",
       "      <td>United States</td>\n",
       "      <td>N</td>\n",
       "      <td>None</td>\n",
       "    </tr>\n",
       "    <tr>\n",
       "      <th>2</th>\n",
       "      <td>2</td>\n",
       "      <td>3</td>\n",
       "      <td>1Time Airline</td>\n",
       "      <td>\\N</td>\n",
       "      <td>1T</td>\n",
       "      <td>RNX</td>\n",
       "      <td>NEXTIME</td>\n",
       "      <td>South Africa</td>\n",
       "      <td>Y</td>\n",
       "      <td>None</td>\n",
       "    </tr>\n",
       "    <tr>\n",
       "      <th>3</th>\n",
       "      <td>3</td>\n",
       "      <td>4</td>\n",
       "      <td>2 Sqn No 1 Elementary Flying Training School</td>\n",
       "      <td>\\N</td>\n",
       "      <td>None</td>\n",
       "      <td>WYT</td>\n",
       "      <td>None</td>\n",
       "      <td>United Kingdom</td>\n",
       "      <td>N</td>\n",
       "      <td>None</td>\n",
       "    </tr>\n",
       "    <tr>\n",
       "      <th>4</th>\n",
       "      <td>4</td>\n",
       "      <td>5</td>\n",
       "      <td>213 Flight Unit</td>\n",
       "      <td>\\N</td>\n",
       "      <td>None</td>\n",
       "      <td>TFU</td>\n",
       "      <td>None</td>\n",
       "      <td>Russia</td>\n",
       "      <td>N</td>\n",
       "      <td>None</td>\n",
       "    </tr>\n",
       "  </tbody>\n",
       "</table>\n",
       "</div>"
      ],
      "text/plain": [
       "   index id                                          name alias  iata  icao  \\\n",
       "0      0  1                                Private flight    \\N     -  None   \n",
       "1      1  2                                   135 Airways    \\N  None   GNL   \n",
       "2      2  3                                 1Time Airline    \\N    1T   RNX   \n",
       "3      3  4  2 Sqn No 1 Elementary Flying Training School    \\N  None   WYT   \n",
       "4      4  5                               213 Flight Unit    \\N  None   TFU   \n",
       "\n",
       "  callsign         country active airplanes  \n",
       "0     None            None      Y      None  \n",
       "1  GENERAL   United States      N      None  \n",
       "2  NEXTIME    South Africa      Y      None  \n",
       "3     None  United Kingdom      N      None  \n",
       "4     None          Russia      N      None  "
      ]
     },
     "execution_count": 30,
     "metadata": {},
     "output_type": "execute_result"
    }
   ],
   "source": [
    "pd.read_sql_query(\"select * from airlines  limit 5\", conn)"
   ]
  }
 ],
 "metadata": {
  "kernelspec": {
   "display_name": "Python 3",
   "language": "python",
   "name": "python3"
  },
  "language_info": {
   "codemirror_mode": {
    "name": "ipython",
    "version": 3
   },
   "file_extension": ".py",
   "mimetype": "text/x-python",
   "name": "python",
   "nbconvert_exporter": "python",
   "pygments_lexer": "ipython3",
   "version": "3.7.3"
  }
 },
 "nbformat": 4,
 "nbformat_minor": 2
}
